{
 "cells": [
  {
   "cell_type": "markdown",
   "id": "1899f903",
   "metadata": {},
   "source": [
    "# Poultry Disease Classification from Fecal Images\n",
    "\n",
    "This notebook classifies poultry diseases based on fecal images into four classes:\n",
    "\n",
    "- **Healthy**\n",
    "- **Coccidiosis (cocci)**\n",
    "- **Salmonella (salmo)**\n",
    "- **Newcastle Disease (ncd)**\n",
    "\n",
    "> ⚙️ *The model is optimized for Mac M1 with 8GB RAM.* (Farhan Mashrur)\n",
    "- Model initially developed with Ahmed Abdulla (Teammate) for Mac M2 \n"
   ]
  },
  {
   "cell_type": "markdown",
   "id": "c27fc4e4",
   "metadata": {},
   "source": [
    "### GPU availability Testing :"
   ]
  },
  {
   "cell_type": "code",
   "execution_count": 2,
   "id": "f1f19079",
   "metadata": {},
   "outputs": [
    {
     "name": "stderr",
     "output_type": "stream",
     "text": [
      "/Users/farhanmashrur/Desktop/cds/avian_alert/tf-metal-env/lib/python3.9/site-packages/urllib3/__init__.py:35: NotOpenSSLWarning: urllib3 v2 only supports OpenSSL 1.1.1+, currently the 'ssl' module is compiled with 'LibreSSL 2.8.3'. See: https://github.com/urllib3/urllib3/issues/3020\n",
      "  warnings.warn(\n"
     ]
    },
    {
     "name": "stdout",
     "output_type": "stream",
     "text": [
      "TensorFlow version: 2.16.2\n",
      "GPUs: [PhysicalDevice(name='/physical_device:GPU:0', device_type='GPU')]\n",
      "Num GPUs Available: 1\n"
     ]
    }
   ],
   "source": [
    "import tensorflow as tf\n",
    "import tensorflow as tf\n",
    "print(\"TensorFlow version:\", tf.__version__)\n",
    "print(\"GPUs:\", tf.config.list_physical_devices('GPU'))\n",
    "print(\"Num GPUs Available:\", len(tf.config.list_physical_devices('GPU')))\n"
   ]
  },
  {
   "cell_type": "markdown",
   "id": "efe6b22a",
   "metadata": {},
   "source": [
    " ## 1. Importing Libraries\n"
   ]
  },
  {
   "cell_type": "code",
   "execution_count": 3,
   "id": "d3bde5cb",
   "metadata": {},
   "outputs": [
    {
     "name": "stdout",
     "output_type": "stream",
     "text": [
      "Modules loaded\n"
     ]
    }
   ],
   "source": [
    "import os\n",
    "import time\n",
    "import zipfile\n",
    "import numpy as np\n",
    "import pandas as pd\n",
    "import matplotlib.pyplot as plt\n",
    "import seaborn as sns\n",
    "\n",
    "sns.set_style('darkgrid')\n",
    "\n",
    "from sklearn.model_selection import train_test_split\n",
    "from sklearn.metrics import confusion_matrix, classification_report\n",
    "\n",
    "import tensorflow as tf\n",
    "from tensorflow import keras\n",
    "from tensorflow.keras.models import Sequential\n",
    "from tensorflow.keras.optimizers import Adam, Adamax\n",
    "from tensorflow.keras.preprocessing.image import ImageDataGenerator\n",
    "from tensorflow.keras.layers import Conv2D, MaxPooling2D, Flatten, Dense, Activation, Dropout, BatchNormalization\n",
    "from tensorflow.keras import regularizers\n",
    "\n",
    "# Enable mixed precision for Apple Silicon (M1/M2)\n",
    "from tensorflow.keras import mixed_precision\n",
    "mixed_precision.set_global_policy('mixed_float16')\n",
    "\n",
    "# Ignore warnings\n",
    "import warnings\n",
    "warnings.filterwarnings(\"ignore\")\n",
    "\n",
    "print('Modules loaded')"
   ]
  },
  {
   "cell_type": "markdown",
   "id": "811654e8",
   "metadata": {},
   "source": [
    "## 2. Enable GPU Acceleration (for Mac M1)\n",
    "#### For Mac M1, we are using TensorFlow-MacOS and Metal plugin are installed."
   ]
  },
  {
   "cell_type": "code",
   "execution_count": 4,
   "id": "a490c415",
   "metadata": {},
   "outputs": [
    {
     "name": "stdout",
     "output_type": "stream",
     "text": [
      "GPU acceleration enabled on M1\n"
     ]
    }
   ],
   "source": [
    "try:\n",
    "    physical_devices = tf.config.list_physical_devices('GPU')\n",
    "    if len(physical_devices) > 0:\n",
    "        tf.config.experimental.set_memory_growth(physical_devices[0], True)\n",
    "        print(\"GPU acceleration enabled on M1\")\n",
    "    else:\n",
    "        print(\"No GPU found\")\n",
    "except Exception as e:\n",
    "    print(\"GPU acceleration not available:\", e)\n",
    "\n",
    "\n",
    "# 3. Image Settings for Mac M1 (8GB RAM)\n",
    "IMG_SIZE = (160, 160)  # Reduced for efficiency\n",
    "CHANNELS = 3\n",
    "BATCH_SIZE = 32        # Lower to 16 if memory issues occur\n",
    "IMG_SHAPE = (IMG_SIZE[0], IMG_SIZE[1], CHANNELS)"
   ]
  },
  {
   "cell_type": "markdown",
   "id": "3b559392",
   "metadata": {},
   "source": [
    "## 3) Part 1 : Callback Setup and Initialization\n"
   ]
  },
  {
   "cell_type": "code",
   "execution_count": 5,
   "id": "f6d2d274",
   "metadata": {},
   "outputs": [],
   "source": [
    "class MyCallback(keras.callbacks.Callback):\n",
    "    def __init__(self, model, patience=1, stop_patience=3, threshold=0.9, factor=0.5, batches=None, epochs=None, ask_epoch=None):\n",
    "        super(MyCallback, self).__init__()\n",
    "        self._model = model\n",
    "        self.patience = patience \n",
    "        self.stop_patience = stop_patience\n",
    "        self.threshold = threshold\n",
    "        self.factor = factor\n",
    "        self.batches = batches\n",
    "        self.epochs = epochs\n",
    "        \n",
    "        self.count = 0\n",
    "        self.stop_count = 0\n",
    "        self.best_epoch = 1\n",
    "        \n",
    "        try:\n",
    "            self.current_lr = 0.001  # Default fallback\n",
    "            if hasattr(model.optimizer, 'learning_rate'):\n",
    "                lr = model.optimizer.learning_rate\n",
    "                if hasattr(lr, 'numpy'):\n",
    "                    self.current_lr = float(lr.numpy())\n",
    "            elif hasattr(model.optimizer, 'lr'):\n",
    "                lr = model.optimizer.lr\n",
    "                if hasattr(lr, 'numpy'):\n",
    "                    self.current_lr = float(lr.numpy())\n",
    "        except:\n",
    "            pass\n",
    "            \n",
    "        self.initial_lr = self.current_lr\n",
    "        self.highest_tracc = 0.0\n",
    "        self.lowest_vloss = np.inf\n",
    "        self.best_weights = self._model.get_weights()\n",
    "        self.initial_weights = self._model.get_weights()\n"
   ]
  }
 ],
 "metadata": {
  "kernelspec": {
   "display_name": "tf-metal-env",
   "language": "python",
   "name": "python3"
  },
  "language_info": {
   "codemirror_mode": {
    "name": "ipython",
    "version": 3
   },
   "file_extension": ".py",
   "mimetype": "text/x-python",
   "name": "python",
   "nbconvert_exporter": "python",
   "pygments_lexer": "ipython3",
   "version": "3.9.6"
  }
 },
 "nbformat": 4,
 "nbformat_minor": 5
}
